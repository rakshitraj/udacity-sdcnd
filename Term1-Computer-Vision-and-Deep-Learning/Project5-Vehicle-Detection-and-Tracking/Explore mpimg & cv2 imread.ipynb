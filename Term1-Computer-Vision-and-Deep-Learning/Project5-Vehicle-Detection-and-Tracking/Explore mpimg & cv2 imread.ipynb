{
 "cells": [
  {
   "cell_type": "code",
   "execution_count": 42,
   "metadata": {},
   "outputs": [
    {
     "name": "stdout",
     "output_type": "stream",
     "text": [
      "Your function returned a count of 4050  cars and 8968  non-cars\n",
      "of size:  (64, 64, 3)  and data type: float32\n",
      "Your function returned a count of 8968  cars and 8968  non-cars\n",
      "of size:  (64, 64, 3)  and data type: float32\n"
     ]
    }
   ],
   "source": [
    "import matplotlib.image as mpimg\n",
    "import matplotlib.pyplot as plt\n",
    "import numpy as np\n",
    "import cv2\n",
    "import glob\n",
    "from skimage.feature import hog\n",
    "from skimage import color, exposure\n",
    "%matplotlib inline\n",
    "\n",
    "# images are divided up into vehicles and non-vehicles\n",
    "car_images_udacity = glob.glob(r'C:\\Users\\mohar\\Desktop\\Vinod\\vehicles\\*\\*.png')\n",
    "notcar_images_udacity = glob.glob(r'C:\\Users\\mohar\\Desktop\\Vinod\\non-vehicles\\*\\*.png')\n",
    "\n",
    "cars = []\n",
    "notcars = []\n",
    "\n",
    "for image in car_images_udacity:\n",
    "    cars.append(image)\n",
    "\n",
    "for image in notcar_images_udacity:\n",
    "    notcars.append(image)\n",
    "        \n",
    "# Define a function to return some characteristics of the dataset \n",
    "def data_look(car_list, notcar_list):\n",
    "    data_dict = {}\n",
    "    # Define a key in data_dict \"n_cars\" and store the number of car images\n",
    "    data_dict[\"n_cars\"] = len(car_list)\n",
    "    # Define a key \"n_notcars\" and store the number of notcar images\n",
    "    data_dict[\"n_notcars\"] = len(notcar_list)\n",
    "    # Read in a test image, either car or notcar\n",
    "    test_img = mpimg.imread(car_list[0])\n",
    "    # Define a key \"image_shape\" and store the test image shape 3-tuple\n",
    "    data_dict[\"image_shape\"] = test_img.shape\n",
    "    # Define a key \"data_type\" and store the data type of the test image.\n",
    "    data_dict[\"data_type\"] = test_img.dtype\n",
    "    # Return data_dict\n",
    "    return data_dict\n",
    "    \n",
    "data_info = data_look(cars, notcars)\n",
    "\n",
    "print('Your function returned a count of', \n",
    "      data_info[\"n_cars\"], ' cars and', \n",
    "      data_info[\"n_notcars\"], ' non-cars')\n",
    "print('of size: ',data_info[\"image_shape\"], ' and data type:', \n",
    "      data_info[\"data_type\"])\n",
    "\n",
    "car_images_crowdai = glob.glob(r'C:\\Users\\mohar\\Desktop\\Vinod\\resized\\*.jpg')\n",
    "# load image path randomly from resized images to augment car class\n",
    "np.random.seed(0) # generate same random numbers everytime to avoid issues due to variation in training data later\n",
    "for i in range(len(notcars) - len(cars)):\n",
    "        cars.append(car_images_crowdai[np.random.randint(0, len(car_images_crowdai))])\n",
    "        \n",
    "data_info = data_look(cars, notcars)\n",
    "\n",
    "print('Your function returned a count of', \n",
    "      data_info[\"n_cars\"], ' cars and', \n",
    "      data_info[\"n_notcars\"], ' non-cars')\n",
    "print('of size: ',data_info[\"image_shape\"], ' and data type:', \n",
    "      data_info[\"data_type\"])\n"
   ]
  },
  {
   "cell_type": "code",
   "execution_count": 43,
   "metadata": {},
   "outputs": [
    {
     "name": "stdout",
     "output_type": "stream",
     "text": [
      "C:\\Users\\mohar\\Desktop\\Vinod\\vehicles\\GTI_Far\\image0262.png\n",
      "C:\\Users\\mohar\\Desktop\\Vinod\\resized\\1479498906999928734.jpg\n"
     ]
    }
   ],
   "source": [
    "print(cars[200])\n",
    "print(cars[-100])"
   ]
  },
  {
   "cell_type": "code",
   "execution_count": 54,
   "metadata": {},
   "outputs": [
    {
     "name": "stdout",
     "output_type": "stream",
     "text": [
      "84\n",
      "uint8\n"
     ]
    }
   ],
   "source": [
    "rgb_png_mpimg = mpimg.imread(cars[200]) # reads png color pixels in RGB between 0 and 1, dtype = float32\n",
    "rgb_jpg_mpimg = mpimg.imread(cars[-100]) # reads jpg color pixels in RGB between 0 and 255, dtype = uint8\n",
    "\n",
    "bgr_png_cv2 = cv2.imread(cars[200]) # reads png color pixels in BGR between 0 and 255, dtype = uint8\n",
    "bgr_jpg_cv2 = cv2.imread(cars[-100]) # reads jpg color pixels in BGR between 0 and 255, dtype = uint8\n",
    "\n",
    "rgb_png_cv2 = bgr_png_cv2[...,::-1]\n",
    "rgb_jpg_cv2 = bgr_jpg_cv2[...,::-1]\n",
    "\n",
    "print(cv2.cvtColor(rgb_jpg_mpimg, cv2.COLOR_RGB2LUV)[0][0][0])\n",
    "print(np.dtype(cv2.cvtColor(rgb_jpg_mpimg, cv2.COLOR_RGB2LUV)[0][0][0]))"
   ]
  }
 ],
 "metadata": {
  "kernelspec": {
   "display_name": "Python 3",
   "language": "python",
   "name": "python3"
  },
  "language_info": {
   "codemirror_mode": {
    "name": "ipython",
    "version": 3
   },
   "file_extension": ".py",
   "mimetype": "text/x-python",
   "name": "python",
   "nbconvert_exporter": "python",
   "pygments_lexer": "ipython3",
   "version": "3.5.2"
  },
  "widgets": {
   "state": {},
   "version": "1.1.2"
  }
 },
 "nbformat": 4,
 "nbformat_minor": 2
}
